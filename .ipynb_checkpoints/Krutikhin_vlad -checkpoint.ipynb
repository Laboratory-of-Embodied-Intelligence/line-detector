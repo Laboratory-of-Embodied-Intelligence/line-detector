{
 "cells": [
  {
   "cell_type": "code",
   "execution_count": 1,
   "metadata": {},
   "outputs": [
    {
     "ename": "ModuleNotFoundError",
     "evalue": "No module named 'numpy'",
     "output_type": "error",
     "traceback": [
      "\u001b[0;31m---------------------------------------------------------------------------\u001b[0m",
      "\u001b[0;31mModuleNotFoundError\u001b[0m                       Traceback (most recent call last)",
      "\u001b[0;32m<ipython-input-1-4632a54a2b07>\u001b[0m in \u001b[0;36m<module>\u001b[0;34m()\u001b[0m\n\u001b[0;32m----> 1\u001b[0;31m \u001b[0;32mimport\u001b[0m \u001b[0mnumpy\u001b[0m \u001b[0;32mas\u001b[0m \u001b[0mnp\u001b[0m\u001b[0;34m\u001b[0m\u001b[0;34m\u001b[0m\u001b[0m\n\u001b[0m\u001b[1;32m      2\u001b[0m \u001b[0;32mimport\u001b[0m \u001b[0mpandas\u001b[0m \u001b[0;32mas\u001b[0m \u001b[0mpd\u001b[0m\u001b[0;34m\u001b[0m\u001b[0;34m\u001b[0m\u001b[0m\n",
      "\u001b[0;31mModuleNotFoundError\u001b[0m: No module named 'numpy'"
     ]
    }
   ],
   "source": [
    "import numpy as np\n",
    "import pandas as pd "
   ]
  },
  {
   "cell_type": "code",
   "execution_count": 2,
   "metadata": {},
   "outputs": [
    {
     "ename": "NameError",
     "evalue": "name 'np' is not defined",
     "output_type": "error",
     "traceback": [
      "\u001b[0;31m---------------------------------------------------------------------------\u001b[0m",
      "\u001b[0;31mNameError\u001b[0m                                 Traceback (most recent call last)",
      "\u001b[0;32m<ipython-input-2-1383ec868d23>\u001b[0m in \u001b[0;36m<module>\u001b[0;34m()\u001b[0m\n\u001b[0;32m----> 1\u001b[0;31m \u001b[0mx\u001b[0m \u001b[0;34m=\u001b[0m \u001b[0mnp\u001b[0m\u001b[0;34m.\u001b[0m\u001b[0mrandom\u001b[0m\u001b[0;34m.\u001b[0m\u001b[0mrandint\u001b[0m\u001b[0;34m(\u001b[0m\u001b[0;36m0\u001b[0m\u001b[0;34m,\u001b[0m \u001b[0;36m2\u001b[0m\u001b[0;34m,\u001b[0m \u001b[0;34m(\u001b[0m\u001b[0;36m13\u001b[0m\u001b[0;34m,\u001b[0m \u001b[0;36m24\u001b[0m \u001b[0;34m)\u001b[0m\u001b[0;34m)\u001b[0m\u001b[0;34m\u001b[0m\u001b[0;34m\u001b[0m\u001b[0m\n\u001b[0m\u001b[1;32m      2\u001b[0m \u001b[0mprint\u001b[0m \u001b[0;34m(\u001b[0m\u001b[0mx\u001b[0m\u001b[0;34m)\u001b[0m\u001b[0;34m\u001b[0m\u001b[0;34m\u001b[0m\u001b[0m\n",
      "\u001b[0;31mNameError\u001b[0m: name 'np' is not defined"
     ]
    }
   ],
   "source": [
    "x = np.random.randint(0, 2, (13, 24 ))\n",
    "print (x)"
   ]
  },
  {
   "cell_type": "code",
   "execution_count": 4,
   "metadata": {},
   "outputs": [
    {
     "data": {
      "text/plain": [
       "160"
      ]
     },
     "execution_count": 4,
     "metadata": {},
     "output_type": "execute_result"
    }
   ],
   "source": [
    "np.sum(x)"
   ]
  },
  {
   "cell_type": "code",
   "execution_count": null,
   "metadata": {},
   "outputs": [],
   "source": []
  },
  {
   "cell_type": "code",
   "execution_count": 5,
   "metadata": {},
   "outputs": [
    {
     "name": "stdout",
     "output_type": "stream",
     "text": [
      "160\n",
      "152\n"
     ]
    }
   ],
   "source": [
    "print (np.sum (x>0.1))\n",
    "\n",
    "print (np.sum (x<0.5))"
   ]
  },
  {
   "cell_type": "code",
   "execution_count": 7,
   "metadata": {},
   "outputs": [
    {
     "name": "stdout",
     "output_type": "stream",
     "text": [
      "          Series_reference   Period  Data_value   STATUS    UNITS  MAGNTUDE  \\\n",
      "0         GFSA.SCS01G01Z90  2009.06        2704  REVISED  Dollars         6   \n",
      "1         GFSA.SCS01G01Z90  2010.06       -3724  REVISED  Dollars         6   \n",
      "2         GFSA.SCS01G01Z90  2011.06      -13276  REVISED  Dollars         6   \n",
      "3         GFSA.SCS01G01Z90  2012.06       -4112  REVISED  Dollars         6   \n",
      "4         GFSA.SCS01G01Z90  2013.06       -1393  REVISED  Dollars         6   \n",
      "...                    ...      ...         ...      ...      ...       ...   \n",
      "1673  GFSA.SCS05G08Z61613Z  2014.06           0    FINAL  Dollars         6   \n",
      "1674  GFSA.SCS05G08Z61613Z  2015.06           0    FINAL  Dollars         6   \n",
      "1675  GFSA.SCS05G08Z61613Z  2016.06           0    FINAL  Dollars         6   \n",
      "1676  GFSA.SCS05G08Z61613Z  2017.06           0    FINAL  Dollars         6   \n",
      "1677  GFSA.SCS05G08Z61613Z  2018.06           0    FINAL  Dollars         6   \n",
      "\n",
      "             Series_title_1 Series_title_2 Series_title_3 Series_title_4  \\\n",
      "0     Net operating balance            NaN            NaN            NaN   \n",
      "1     Net operating balance            NaN            NaN            NaN   \n",
      "2     Net operating balance            NaN            NaN            NaN   \n",
      "3     Net operating balance            NaN            NaN            NaN   \n",
      "4     Net operating balance            NaN            NaN            NaN   \n",
      "...                     ...            ...            ...            ...   \n",
      "1673   Non-financial assets              5             12            NaN   \n",
      "1674   Non-financial assets              5             12            NaN   \n",
      "1675   Non-financial assets              5             12            NaN   \n",
      "1676   Non-financial assets              5             12            NaN   \n",
      "1677   Non-financial assets              5             12            NaN   \n",
      "\n",
      "      Series_title_5  \n",
      "0                NaN  \n",
      "1                NaN  \n",
      "2                NaN  \n",
      "3                NaN  \n",
      "4                NaN  \n",
      "...              ...  \n",
      "1673             NaN  \n",
      "1674             NaN  \n",
      "1675             NaN  \n",
      "1676             NaN  \n",
      "1677             NaN  \n",
      "\n",
      "[1678 rows x 11 columns]\n"
     ]
    }
   ],
   "source": [
    "f = '/Users/vladkrutihin/Downloads/government-finance-statistics-june-2018 (2).csv'\n",
    "# читаем данные из файла csv\n",
    "df = pd.read_csv(f, delimiter=';',decimal='.')\n",
    "num_rows, num_feature = df.shape\n",
    "print (df)"
   ]
  },
  {
   "cell_type": "code",
   "execution_count": 14,
   "metadata": {},
   "outputs": [
    {
     "name": "stdout",
     "output_type": "stream",
     "text": [
      "не пустые значения (%): Series_reference    100.000000\n",
      "Period              100.000000\n",
      "Data_value          100.000000\n",
      "STATUS              100.000000\n",
      "UNITS               100.000000\n",
      "MAGNTUDE            100.000000\n",
      "Series_title_1      100.000000\n",
      "Series_title_2       57.687723\n",
      "Series_title_3       27.890346\n",
      "Series_title_4       18.235995\n",
      "Series_title_5        0.000000\n",
      "dtype: float64\n"
     ]
    }
   ],
   "source": [
    "print('не пустые значения (%):', df.count()*100/num_rows)"
   ]
  },
  {
   "cell_type": "code",
   "execution_count": 15,
   "metadata": {},
   "outputs": [
    {
     "data": {
      "image/png": "[encoded data removed]",
      "text/plain": [
       "<Figure size 432x288 with 1 Axes>"
      ]
     },
     "metadata": {
      "needs_background": "light"
     },
     "output_type": "display_data"
    }
   ],
   "source": [
    "import matplotlib.pyplot as plt\n",
    "%matplotlib inline\n",
    "\n",
    "plt.hist(df['Data_value'])\n",
    "plt.show()"
   ]
  },
  {
   "cell_type": "code",
   "execution_count": 16,
   "metadata": {},
   "outputs": [
    {
     "name": "stdout",
     "output_type": "stream",
     "text": [
      "          Series_reference   Period  Data_value   STATUS    UNITS  MAGNTUDE  \\\n",
      "0         GFSA.SCS01G01Z90  2009.06        2704  REVISED  Dollars         6   \n",
      "1         GFSA.SCS01G01Z90  2010.06       -3724  REVISED  Dollars         6   \n",
      "2         GFSA.SCS01G01Z90  2011.06      -13276  REVISED  Dollars         6   \n",
      "3         GFSA.SCS01G01Z90  2012.06       -4112  REVISED  Dollars         6   \n",
      "4         GFSA.SCS01G01Z90  2013.06       -1393  REVISED  Dollars         6   \n",
      "...                    ...      ...         ...      ...      ...       ...   \n",
      "1673  GFSA.SCS05G08Z61613Z  2014.06           0    FINAL  Dollars         6   \n",
      "1674  GFSA.SCS05G08Z61613Z  2015.06           0    FINAL  Dollars         6   \n",
      "1675  GFSA.SCS05G08Z61613Z  2016.06           0    FINAL  Dollars         6   \n",
      "1676  GFSA.SCS05G08Z61613Z  2017.06           0    FINAL  Dollars         6   \n",
      "1677  GFSA.SCS05G08Z61613Z  2018.06           0    FINAL  Dollars         6   \n",
      "\n",
      "             Series_title_1 Series_title_2 Series_title_3 Series_title_4  \\\n",
      "0     Net operating balance         MyData         MyData         MyData   \n",
      "1     Net operating balance         MyData         MyData         MyData   \n",
      "2     Net operating balance         MyData         MyData         MyData   \n",
      "3     Net operating balance         MyData         MyData         MyData   \n",
      "4     Net operating balance         MyData         MyData         MyData   \n",
      "...                     ...            ...            ...            ...   \n",
      "1673   Non-financial assets              5             12         MyData   \n",
      "1674   Non-financial assets              5             12         MyData   \n",
      "1675   Non-financial assets              5             12         MyData   \n",
      "1676   Non-financial assets              5             12         MyData   \n",
      "1677   Non-financial assets              5             12         MyData   \n",
      "\n",
      "     Series_title_5  \n",
      "0            MyData  \n",
      "1            MyData  \n",
      "2            MyData  \n",
      "3            MyData  \n",
      "4            MyData  \n",
      "...             ...  \n",
      "1673         MyData  \n",
      "1674         MyData  \n",
      "1675         MyData  \n",
      "1676         MyData  \n",
      "1677         MyData  \n",
      "\n",
      "[1678 rows x 11 columns]\n"
     ]
    }
   ],
   "source": [
    "newdf = df.fillna('MyData')\n",
    "print (newdf)"
   ]
  },
  {
   "cell_type": "code",
   "execution_count": 17,
   "metadata": {},
   "outputs": [
    {
     "name": "stdout",
     "output_type": "stream",
     "text": [
      "292982\n",
      "-14196\n",
      "13619.226460071513\n"
     ]
    }
   ],
   "source": [
    "print(df['Data_value'].max(axis=0))\n",
    "print(df['Data_value'].min(axis=0))\n",
    "print(df['Data_value'].mean(axis=0))"
   ]
  },
  {
   "cell_type": "code",
   "execution_count": null,
   "metadata": {},
   "outputs": [],
   "source": []
  }
 ],
 "metadata": {
  "kernelspec": {
   "display_name": "Python 3",
   "language": "python",
   "name": "python3"
  },
  "language_info": {
   "codemirror_mode": {
    "name": "ipython",
    "version": 3
   },
   "file_extension": ".py",
   "mimetype": "text/x-python",
   "name": "python",
   "nbconvert_exporter": "python",
   "pygments_lexer": "ipython3",
   "version": "3.6.9"
  }
 },
 "nbformat": 4,
 "nbformat_minor": 2
}
